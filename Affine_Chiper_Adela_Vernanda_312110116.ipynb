{
  "nbformat": 4,
  "nbformat_minor": 0,
  "metadata": {
    "colab": {
      "provenance": [],
      "authorship_tag": "ABX9TyPwxmiWYD/b7JSvKIFxDeNh",
      "include_colab_link": true
    },
    "kernelspec": {
      "name": "python3",
      "display_name": "Python 3"
    },
    "language_info": {
      "name": "python"
    }
  },
  "cells": [
    {
      "cell_type": "markdown",
      "metadata": {
        "id": "view-in-github",
        "colab_type": "text"
      },
      "source": [
        "<a href=\"https://colab.research.google.com/github/AdelaVernanda/UTS_Kriptografi/blob/main/Affine_Chiper_Adela_Vernanda_312110116.ipynb\" target=\"_parent\"><img src=\"https://colab.research.google.com/assets/colab-badge.svg\" alt=\"Open In Colab\"/></a>"
      ]
    },
    {
      "cell_type": "markdown",
      "source": [
        "# **Affine Chiper**"
      ],
      "metadata": {
        "id": "K1SJNKn9pGYA"
      }
    },
    {
      "cell_type": "code",
      "execution_count": 4,
      "metadata": {
        "colab": {
          "base_uri": "https://localhost:8080/"
        },
        "id": "joEptqNFpEiE",
        "outputId": "b5a9fc39-9707-46bc-c342-a2d5d0942fd9"
      },
      "outputs": [
        {
          "output_type": "stream",
          "name": "stdout",
          "text": [
            "Masukkan Teks: Adela Vernanda\n",
            "Original Text: Adela Vernanda\n",
            "Encrypted Text: Ixcli Jcpvivxi\n",
            "Decrypted Text: Adela Vernanda\n"
          ]
        }
      ],
      "source": [
        "def egcd(a, b):\n",
        "    if a == 0:\n",
        "        return (b, 0, 1)\n",
        "    else:\n",
        "        g, y, x = egcd(b % a, a)\n",
        "        return (g, x - (b // a) * y, y)\n",
        "\n",
        "def modinv(a, m):\n",
        "    g, x, y = egcd(a, m)\n",
        "    if g != 1:\n",
        "        raise Exception('Modular inverse does not exist')\n",
        "    else:\n",
        "        return x % m\n",
        "\n",
        "def affine_encrypt(text, key):\n",
        "    a, b = key\n",
        "    result = \"\"\n",
        "    for char in text:\n",
        "        if char.isalpha():\n",
        "            if char.isupper():\n",
        "                result += chr((a * (ord(char) - ord('A')) + b) % 26 + ord('A'))\n",
        "            else:\n",
        "                result += chr((a * (ord(char) - ord('a')) + b) % 26 + ord('a'))\n",
        "        else:\n",
        "            result += char\n",
        "    return result\n",
        "\n",
        "def affine_decrypt(ciphertext, key):\n",
        "    a, b = key\n",
        "    result = \"\"\n",
        "    a_inv = modinv(a, 26)\n",
        "    for char in ciphertext:\n",
        "        if char.isalpha():\n",
        "            if char.isupper():\n",
        "                result += chr((a_inv * (ord(char) - ord('A') - b)) % 26 + ord('A'))\n",
        "            else:\n",
        "                result += chr((a_inv * (ord(char) - ord('a') - b)) % 26 + ord('a'))\n",
        "        else:\n",
        "            result += char\n",
        "    return result\n",
        "\n",
        "# Example usage:\n",
        "text = input(\"Masukkan Teks: \")\n",
        "key = (5, 8)  # Example key (a, b)\n",
        "\n",
        "encrypted_text = affine_encrypt(text, key)\n",
        "decrypted_text = affine_decrypt(encrypted_text, key)\n",
        "\n",
        "print(\"Original Text:\", text)\n",
        "print(\"Encrypted Text:\", encrypted_text)\n",
        "print(\"Decrypted Text:\", decrypted_text)\n"
      ]
    }
  ]
}