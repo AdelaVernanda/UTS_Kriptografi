{
  "nbformat": 4,
  "nbformat_minor": 0,
  "metadata": {
    "colab": {
      "provenance": [],
      "authorship_tag": "ABX9TyPl2p7FfXDj/HR4VM6iIGMt",
      "include_colab_link": true
    },
    "kernelspec": {
      "name": "python3",
      "display_name": "Python 3"
    },
    "language_info": {
      "name": "python"
    }
  },
  "cells": [
    {
      "cell_type": "markdown",
      "metadata": {
        "id": "view-in-github",
        "colab_type": "text"
      },
      "source": [
        "<a href=\"https://colab.research.google.com/github/AdelaVernanda/UTS_Kriptografi/blob/main/Caesar_Chiper_Adela_Vernanda_312110116.ipynb\" target=\"_parent\"><img src=\"https://colab.research.google.com/assets/colab-badge.svg\" alt=\"Open In Colab\"/></a>"
      ]
    },
    {
      "cell_type": "markdown",
      "source": [
        "# **Caesar Chiper**\n",
        "\n"
      ],
      "metadata": {
        "id": "XhTZfLVqHnr6"
      }
    },
    {
      "cell_type": "code",
      "execution_count": 2,
      "metadata": {
        "colab": {
          "base_uri": "https://localhost:8080/"
        },
        "id": "BnGyKtcR94Vi",
        "outputId": "4921c1d2-9e6d-4288-9032-c8e33e485da2"
      },
      "outputs": [
        {
          "output_type": "stream",
          "name": "stdout",
          "text": [
            "Masukkan Teks: Adela Vernanda\n",
            "Masukkan Jumlah Pergeseran: 3\n",
            "Teks Enkripsi: Dghod Yhuqdqgd\n",
            "Teks Dekripsi: Adela Vernanda\n"
          ]
        }
      ],
      "source": [
        "def caesar_cipher(text, shift):\n",
        "    result = \"\"\n",
        "    for char in text:\n",
        "        if char.isalpha():\n",
        "            # Menentukan apakah karakter huruf besar atau huruf kecil\n",
        "            is_upper = char.isupper()\n",
        "\n",
        "            # Mengubah huruf menjadi indeks dalam alfabet (0-25)\n",
        "            char_index = ord(char.lower()) - ord('a')\n",
        "\n",
        "            # Melakukan pergeseran\n",
        "            char_index = (char_index + shift) % 26\n",
        "\n",
        "            # Mengembalikan karakter ke bentuk huruf awal dengan menghitung ulang\n",
        "            if is_upper:\n",
        "                result += chr(char_index + ord('A'))\n",
        "            else:\n",
        "                result += chr(char_index + ord('a'))\n",
        "        else:\n",
        "            # Jika bukan huruf, tambahkan karakter aslinya tanpa perubahan\n",
        "            result += char\n",
        "    return result\n",
        "\n",
        "# Contoh penggunaan:\n",
        "text = input(\"Masukkan Teks: \")\n",
        "shift = int(input(\"Masukkan Jumlah Pergeseran: \"))\n",
        "encrypted_text = caesar_cipher(text, shift)\n",
        "print(\"Teks Enkripsi:\", encrypted_text)\n",
        "\n",
        "decrypted_text = caesar_cipher(encrypted_text, -shift)\n",
        "print(\"Teks Dekripsi:\", decrypted_text)"
      ]
    }
  ]
}