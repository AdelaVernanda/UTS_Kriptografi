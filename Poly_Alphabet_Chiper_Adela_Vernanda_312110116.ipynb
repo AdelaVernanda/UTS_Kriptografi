{
  "nbformat": 4,
  "nbformat_minor": 0,
  "metadata": {
    "colab": {
      "provenance": [],
      "authorship_tag": "ABX9TyOANUDY2iRXLybV60lp8Z6v",
      "include_colab_link": true
    },
    "kernelspec": {
      "name": "python3",
      "display_name": "Python 3"
    },
    "language_info": {
      "name": "python"
    }
  },
  "cells": [
    {
      "cell_type": "markdown",
      "metadata": {
        "id": "view-in-github",
        "colab_type": "text"
      },
      "source": [
        "<a href=\"https://colab.research.google.com/github/AdelaVernanda/UTS_Kriptografi/blob/main/Poly_Alphabet_Chiper_Adela_Vernanda_312110116.ipynb\" target=\"_parent\"><img src=\"https://colab.research.google.com/assets/colab-badge.svg\" alt=\"Open In Colab\"/></a>"
      ]
    },
    {
      "cell_type": "markdown",
      "source": [
        "# **Poly Alphabet Chiper**"
      ],
      "metadata": {
        "id": "ROB8g-2rr_mz"
      }
    },
    {
      "cell_type": "code",
      "execution_count": 2,
      "metadata": {
        "colab": {
          "base_uri": "https://localhost:8080/"
        },
        "id": "ThbGEkeLr3TY",
        "outputId": "db1b0e9e-520a-44a9-b5f7-ac164da210e0"
      },
      "outputs": [
        {
          "output_type": "stream",
          "name": "stdout",
          "text": [
            "Masukkan teks: Adela Vernanda\n",
            "Masukkan kunci: 3\n",
            "\n",
            "Teks Asli: ADELAVERNANDA\n",
            "Teks Terenkripsi: MPQXMHQDZMZPM\n",
            "Teks Terdekripsi: ADELAVERNANDA\n"
          ]
        }
      ],
      "source": [
        "def vigenere_encrypt(plain_text, key):\n",
        "    encrypted_text = ''\n",
        "    key_repeated = (key * (len(plain_text) // len(key) + 1))[:len(plain_text)]\n",
        "\n",
        "    for i in range(len(plain_text)):\n",
        "        if plain_text[i].isalpha():\n",
        "            shift = ord(key_repeated[i].upper()) - ord('A')\n",
        "            if plain_text[i].isupper():\n",
        "                encrypted_text += chr((ord(plain_text[i]) + shift - ord('A')) % 26 + ord('A'))\n",
        "            else:\n",
        "                encrypted_text += chr((ord(plain_text[i]) + shift - ord('a')) % 26 + ord('a'))\n",
        "        else:\n",
        "            encrypted_text += plain_text[i]\n",
        "\n",
        "    return encrypted_text\n",
        "\n",
        "def vigenere_decrypt(encrypted_text, key):\n",
        "    decrypted_text = ''\n",
        "    key_repeated = (key * (len(encrypted_text) // len(key) + 1))[:len(encrypted_text)]\n",
        "\n",
        "    for i in range(len(encrypted_text)):\n",
        "        if encrypted_text[i].isalpha():\n",
        "            shift = ord(key_repeated[i].upper()) - ord('A')\n",
        "            if encrypted_text[i].isupper():\n",
        "                decrypted_text += chr((ord(encrypted_text[i]) - shift - ord('A')) % 26 + ord('A'))\n",
        "            else:\n",
        "                decrypted_text += chr((ord(encrypted_text[i]) - shift - ord('a')) % 26 + ord('a'))\n",
        "        else:\n",
        "            decrypted_text += encrypted_text[i]\n",
        "\n",
        "    return decrypted_text\n",
        "\n",
        "# Input dari pengguna\n",
        "plain_text = input(\"Masukkan teks: \").replace(\" \", \"\").upper()\n",
        "key = input(\"Masukkan kunci: \").replace(\" \", \"\").upper()\n",
        "\n",
        "encrypted_text = vigenere_encrypt(plain_text, key)\n",
        "decrypted_text = vigenere_decrypt(encrypted_text, key)\n",
        "\n",
        "print(\"\\nTeks Asli:\", plain_text)\n",
        "print(\"Teks Terenkripsi:\", encrypted_text)\n",
        "print(\"Teks Terdekripsi:\", decrypted_text)"
      ]
    }
  ]
}