{
  "nbformat": 4,
  "nbformat_minor": 0,
  "metadata": {
    "colab": {
      "provenance": [],
      "authorship_tag": "ABX9TyOt3aXWUXevMV+y/5hCltDz",
      "include_colab_link": true
    },
    "kernelspec": {
      "name": "python3",
      "display_name": "Python 3"
    },
    "language_info": {
      "name": "python"
    }
  },
  "cells": [
    {
      "cell_type": "markdown",
      "metadata": {
        "id": "view-in-github",
        "colab_type": "text"
      },
      "source": [
        "<a href=\"https://colab.research.google.com/github/AdelaVernanda/Kriptografi/blob/main/Tugas_Kriptografi_Pertemuan_3.ipynb\" target=\"_parent\"><img src=\"https://colab.research.google.com/assets/colab-badge.svg\" alt=\"Open In Colab\"/></a>"
      ]
    },
    {
      "cell_type": "code",
      "execution_count": null,
      "metadata": {
        "colab": {
          "base_uri": "https://localhost:8080/"
        },
        "id": "6QucC8kjyb4t",
        "outputId": "856e5534-a904-4a4c-f233-e30c9a3388e2"
      },
      "outputs": [
        {
          "output_type": "stream",
          "name": "stdout",
          "text": [
            "Masukkan username: adelav\n",
            "Masukkan kata sandi: 0987\n",
            "Login berhasil!\n"
          ]
        }
      ],
      "source": [
        "def vigenere_encrypt(plain_text, key):\n",
        "    encrypted_text = \"\"\n",
        "    key_length = len(key)\n",
        "\n",
        "    for i in range(len(plain_text)):\n",
        "        char = plain_text[i]\n",
        "        if char.isalpha():\n",
        "            key_char = key[i % key_length]\n",
        "            shift = ord(key_char) - ord('A')\n",
        "            if char.isupper():\n",
        "                encrypted_char = chr((ord(char) + shift - 65) % 26 + 65)\n",
        "            else:\n",
        "                encrypted_char = chr((ord(char) + shift - 97) % 26 + 97)\n",
        "            encrypted_text += encrypted_char\n",
        "        else:\n",
        "            encrypted_text += char\n",
        "\n",
        "    return encrypted_text\n",
        "\n",
        "def vigenere_decrypt(encrypted_text, key):\n",
        "    decrypted_text = \"\"\n",
        "    key_length = len(key)\n",
        "\n",
        "    for i in range(len(encrypted_text)):\n",
        "        char = encrypted_text[i]\n",
        "        if char.isalpha():\n",
        "            key_char = key[i % key_length]\n",
        "            shift = ord(key_char) - ord('A')\n",
        "            if char.isupper():\n",
        "                decrypted_char = chr((ord(char) - shift - 65) % 26 + 65)\n",
        "            else:\n",
        "                decrypted_char = chr((ord(char) - shift - 97) % 26 + 97)\n",
        "            decrypted_text += decrypted_char\n",
        "        else:\n",
        "            decrypted_text += char\n",
        "\n",
        "    return decrypted_text\n",
        "\n",
        "# Simulasi data login\n",
        "username = \"adelav\"\n",
        "password = \"0987\"\n",
        "\n",
        "# Kata kunci untuk Vigenere Cipher\n",
        "key = \"KEY\"\n",
        "\n",
        "# Enkripsi password sebelum menyimpannya\n",
        "encrypted_password = vigenere_encrypt(password, key)\n",
        "\n",
        "# Pada saat login, lakukan dekripsi dan bandingkan dengan kata sandi yang dimasukkan\n",
        "input_username = input(\"Masukkan username: \")\n",
        "input_password = input(\"Masukkan kata sandi: \")\n",
        "decrypted_password = vigenere_decrypt(encrypted_password, key)\n",
        "\n",
        "if input_password == decrypted_password:\n",
        "    print(\"Login berhasil!\")\n",
        "else:\n",
        "    print(\"Login gagal. Kata sandi salah.\")"
      ]
    }
  ]
}